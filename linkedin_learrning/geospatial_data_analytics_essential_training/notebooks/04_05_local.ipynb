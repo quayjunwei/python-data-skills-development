{
 "cells": [
  {
   "cell_type": "markdown",
   "id": "560fdc0f-baab-45fa-bd3b-b07d9071b470",
   "metadata": {},
   "source": [
    "# Explore the administrative boundaries of the NYC neighbourhoods"
   ]
  },
  {
   "cell_type": "code",
   "execution_count": 2,
   "id": "7c02dbcf-bfa2-462d-a9ef-d736a968c310",
   "metadata": {},
   "outputs": [],
   "source": [
    "import geopandas as gpd"
   ]
  },
  {
   "cell_type": "code",
   "execution_count": null,
   "id": "1b3df1f0-c788-404f-861b-ee89aa59ff2a",
   "metadata": {},
   "outputs": [],
   "source": []
  },
  {
   "cell_type": "code",
   "execution_count": null,
   "id": "d5286ddb-73c3-4a33-9f11-138e1aedaedd",
   "metadata": {},
   "outputs": [],
   "source": []
  },
  {
   "cell_type": "code",
   "execution_count": null,
   "id": "c29e0a86-ef3d-4137-a87d-17d5d19ab3f6",
   "metadata": {},
   "outputs": [],
   "source": []
  },
  {
   "cell_type": "code",
   "execution_count": null,
   "id": "c40dc897-6dca-4fc0-b29a-992d5aecbc68",
   "metadata": {},
   "outputs": [],
   "source": []
  },
  {
   "cell_type": "code",
   "execution_count": null,
   "id": "ade2e4b6-0047-4488-aa6b-3ccc1ddacacc",
   "metadata": {},
   "outputs": [],
   "source": []
  },
  {
   "cell_type": "code",
   "execution_count": null,
   "id": "d402a794-1b05-4bac-b2c3-69e0d09a59de",
   "metadata": {},
   "outputs": [],
   "source": []
  },
  {
   "cell_type": "code",
   "execution_count": null,
   "id": "d09120ea-af7d-4ebb-8b98-45622b6306ca",
   "metadata": {},
   "outputs": [],
   "source": []
  },
  {
   "cell_type": "code",
   "execution_count": null,
   "id": "6ce6b934-4270-496e-80da-d8a4a697fd79",
   "metadata": {},
   "outputs": [],
   "source": []
  }
 ],
 "metadata": {
  "kernelspec": {
   "display_name": "Python 3 (ipykernel)",
   "language": "python",
   "name": "python3"
  },
  "language_info": {
   "codemirror_mode": {
    "name": "ipython",
    "version": 3
   },
   "file_extension": ".py",
   "mimetype": "text/x-python",
   "name": "python",
   "nbconvert_exporter": "python",
   "pygments_lexer": "ipython3",
   "version": "3.11.5"
  }
 },
 "nbformat": 4,
 "nbformat_minor": 5
}
