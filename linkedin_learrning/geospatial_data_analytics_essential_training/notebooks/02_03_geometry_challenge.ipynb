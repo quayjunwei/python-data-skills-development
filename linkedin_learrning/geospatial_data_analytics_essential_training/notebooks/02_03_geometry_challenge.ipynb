{
 "cells": [
  {
   "cell_type": "markdown",
   "id": "6179225c",
   "metadata": {},
   "source": [
    "## Before the Challenge: Understanding Geometry Operations\n",
    "Imagine creating a simple drawing of a car by creating and combining geometric shapes, such as rectangles, points, and even circles, while relying on geometry operations, such as buffering and union. This exercise helps in understanding the basics of computational geometry, which is a widely used foundational tool in spatial analytics and geographical information systems (GIS).\n",
    "\n",
    "\n",
    "\n",
    " \n",
    "\n",
    "## Challenge: Creating a Simple Car Shape\n",
    "In this exciting learning challenge, you'll dive into geometries in Python to create the shape of a simple car using basic geometric operations. Just like a car mechanic assembling pieces to create a real one, you will use geometric shapes and operations to create car parts and build a car model.\n",
    "\n",
    "Throughout this challenge, you will work with simple geometric shapes like rectangles and circles and apply operations such as buffering and union to combine these shapes into a car.\n",
    "\n",
    "To get started: Open your Python environment and follow the instructions below.\n",
    "\n",
    "## Understanding and preprocessing the data:\n",
    "\n",
    "- You'll start by importing the necessary libraries and setting up the geometric shapes\n",
    "\n",
    "### Creating the car components:\n",
    "\n",
    "- Define the top of the car using a rectangle with a height of 1 and a length of 2\n",
    "- Define the bottom part of the car using another rectangle with a height of 1 and a length of 5\n",
    "- Create the wheels as circles with a radius of 0.5 each. Remember, you can easily create a circle by buffering a point\n",
    "\n",
    "### Combining the shapes:\n",
    "\n",
    "- Use geometric operations to combine the car parts into a single shape\n",
    "\n",
    "### Evaluating the results:\n",
    "\n",
    "- Calculate the circumference and the total area of the car when taken as a single polygon\n",
    "\n",
    "### What You'll Learn\n",
    "By the end of this challenge, you'll have gained practical skills in using geometric operations to create complex shapes from simple components. This is a hands-on opportunity to apply computational geometry techniques in a fun and engaging way, and get you ready to manually create and modify real-world geometry objects whenever needed.\n",
    "\n",
    "### Hints on How to Proceed\n",
    "- *Ensure correct shapes and positions:* Make sure the shapes are correctly defined and positioned to resemble a car\n",
    "- *Use appropriate geometry operations:* Use buffering to create circles for the wheels and union operations to combine shapes\n",
    "- *Evaluate the results accurately:* Use built-in methods to calculate the circumference and area of the final shape"
   ]
  },
  {
   "cell_type": "code",
   "execution_count": 3,
   "id": "949fca1c",
   "metadata": {},
   "outputs": [],
   "source": [
    "# Importing necessary libraries\n",
    "from shapely import Polygon, Point"
   ]
  },
  {
   "cell_type": "code",
   "execution_count": 5,
   "id": "39310127",
   "metadata": {},
   "outputs": [
    {
     "data": {
      "image/svg+xml": [
       "<svg xmlns=\"http://www.w3.org/2000/svg\" xmlns:xlink=\"http://www.w3.org/1999/xlink\" width=\"100.0\" height=\"100.0\" viewBox=\"0.92 0.92 2.16 1.1600000000000001\" preserveAspectRatio=\"xMinYMin meet\"><g transform=\"matrix(1,0,0,-1,0,3.0)\"><path fill-rule=\"evenodd\" fill=\"#66cc99\" stroke=\"#555555\" stroke-width=\"0.0432\" opacity=\"0.6\" d=\"M 1.0,1.0 L 1.0,2.0 L 3.0,2.0 L 3.0,1.0 L 1.0,1.0 z\" /></g></svg>"
      ],
      "text/plain": [
       "<POLYGON ((1 1, 1 2, 3 2, 3 1, 1 1))>"
      ]
     },
     "execution_count": 5,
     "metadata": {},
     "output_type": "execute_result"
    }
   ],
   "source": [
    "# Define the top of the car\n",
    "top = Polygon([(1, 1),(1, 2),(3, 2),(3, 1)])\n",
    "top"
   ]
  },
  {
   "cell_type": "code",
   "execution_count": 17,
   "id": "2a0e9f2d",
   "metadata": {},
   "outputs": [
    {
     "data": {
      "image/svg+xml": [
       "<svg xmlns=\"http://www.w3.org/2000/svg\" xmlns:xlink=\"http://www.w3.org/1999/xlink\" width=\"100.0\" height=\"100.0\" viewBox=\"-0.2 -0.2 5.4 1.4\" preserveAspectRatio=\"xMinYMin meet\"><g transform=\"matrix(1,0,0,-1,0,1.0)\"><path fill-rule=\"evenodd\" fill=\"#66cc99\" stroke=\"#555555\" stroke-width=\"0.10800000000000001\" opacity=\"0.6\" d=\"M 0.0,0.0 L 0.0,1.0 L 5.0,1.0 L 5.0,0.0 L 0.0,0.0 z\" /></g></svg>"
      ],
      "text/plain": [
       "<POLYGON ((0 0, 0 1, 5 1, 5 0, 0 0))>"
      ]
     },
     "execution_count": 17,
     "metadata": {},
     "output_type": "execute_result"
    }
   ],
   "source": [
    "# Define the bottom part of the car\n",
    "bottom = Polygon([(0, 0),(0, 1),(5, 1),(5, 0)])\n",
    "bottom"
   ]
  },
  {
   "cell_type": "code",
   "execution_count": 19,
   "id": "addee4de",
   "metadata": {},
   "outputs": [
    {
     "data": {
      "image/svg+xml": [
       "<svg xmlns=\"http://www.w3.org/2000/svg\" xmlns:xlink=\"http://www.w3.org/1999/xlink\" width=\"100.0\" height=\"100.0\" viewBox=\"0.46 -1.04 1.08 1.08\" preserveAspectRatio=\"xMinYMin meet\"><g transform=\"matrix(1,0,0,-1,0,-1.0)\"><path fill-rule=\"evenodd\" fill=\"#66cc99\" stroke=\"#555555\" stroke-width=\"0.0216\" opacity=\"0.6\" d=\"M 1.5,-0.5 L 1.4975923633360986,-0.5490085701647802 L 1.4903926402016152,-0.597545161008064 L 1.4784701678661045,-0.645142338627231 L 1.4619397662556435,-0.6913417161825447 L 1.4409606321741777,-0.7356983684129986 L 1.415734806151273,-0.7777851165098009 L 1.3865052266813687,-0.8171966420818224 L 1.353553390593274,-0.8535533905932735 L 1.317196642081823,-0.8865052266813682 L 1.2777851165098015,-0.9157348061512723 L 1.2356983684129994,-0.9409606321741772 L 1.1913417161825455,-0.9619397662556431 L 1.145142338627232,-0.9784701678661043 L 1.0975451610080649,-0.9903926402016151 L 1.049008570164781,-0.9975923633360984 L 1.0000000000000009,-1.0 L 0.9509914298352206,-0.9975923633360986 L 0.9024548389919368,-0.9903926402016154 L 0.8548576613727698,-0.9784701678661047 L 0.8086582838174561,-0.9619397662556437 L 0.7643016315870022,-0.940960632174178 L 0.7222148834901998,-0.9157348061512731 L 0.682803357918178,-0.8865052266813691 L 0.6464466094067269,-0.8535533905932744 L 0.613494773318632,-0.8171966420818234 L 0.5842651938487278,-0.7777851165098018 L 0.5590393678258229,-0.7356983684129995 L 0.538060233744357,-0.6913417161825456 L 0.5215298321338957,-0.6451423386272318 L 0.5096073597983849,-0.5975451610080648 L 0.5024076366639016,-0.5490085701647809 L 0.5,-0.5000000000000006 L 0.5024076366639015,-0.45099142983522017 L 0.5096073597983847,-0.40245483899193624 L 0.5215298321338955,-0.35485766137276914 L 0.5380602337443565,-0.3086582838174554 L 0.5590393678258223,-0.2643016315870014 L 0.5842651938487273,-0.22221488349019902 L 0.6134947733186314,-0.18280335791817737 L 0.6464466094067262,-0.14644660940672627 L 0.682803357918177,-0.11349477331863167 L 0.7222148834901985,-0.0842651938487276 L 0.7643016315870006,-0.05903936782582275 L 0.8086582838174544,-0.03806023374435691 L 0.854857661372768,-0.02152983213389581 L 0.9024548389919348,-0.009607359798385007 L 0.9509914298352184,-0.002407636663901702 L 0.9999999999999986,0.0 L 1.0490085701647787,-0.0024076366639014246 L 1.0975451610080624,-0.009607359798384452 L 1.1451423386272293,-0.021529832133895033 L 1.191341716182543,-0.0380602337443558 L 1.2356983684129967,-0.05903936782582142 L 1.277785116509799,-0.08426519384872605 L 1.3171966420818206,-0.1134947733186299 L 1.3535533905932717,-0.14644660940672427 L 1.3865052266813667,-0.18280335791817498 L 1.415734806151271,-0.2222148834901963 L 1.440960632174176,-0.26430163158699826 L 1.4619397662556421,-0.3086582838174519 L 1.4784701678661034,-0.35485766137276537 L 1.4903926402016145,-0.40245483899193213 L 1.4975923633360981,-0.4509914298352158 L 1.5,-0.4999999999999959 L 1.5,-0.5 z\" /></g></svg>"
      ],
      "text/plain": [
       "<POLYGON ((1.5 -0.5, 1.5 -0.549, 1.49 -0.598, 1.48 -0.645, 1.46 -0.691, 1.44...>"
      ]
     },
     "execution_count": 19,
     "metadata": {},
     "output_type": "execute_result"
    }
   ],
   "source": [
    "# Create the wheels with a radius of 0.5 each\n",
    "wheel_front =  Point(1, -0.5).buffer(0.5)\n",
    "wheel_rear =  Point(4, -0.5).buffer(0.5)"
   ]
  },
  {
   "cell_type": "code",
   "execution_count": 24,
   "id": "fc3859ba",
   "metadata": {},
   "outputs": [
    {
     "data": {
      "image/svg+xml": [
       "<svg xmlns=\"http://www.w3.org/2000/svg\" xmlns:xlink=\"http://www.w3.org/1999/xlink\" width=\"100.0\" height=\"100.0\" viewBox=\"-0.2 -1.2 5.4 3.4000000000000004\" preserveAspectRatio=\"xMinYMin meet\"><g transform=\"matrix(1,0,0,-1,0,1.0000000000000002)\"><g><path fill-rule=\"evenodd\" fill=\"#66cc99\" stroke=\"#555555\" stroke-width=\"0.10800000000000001\" opacity=\"0.6\" d=\"M 1.0,1.0 L 1.0,2.0 L 3.0,2.0 L 3.0,1.0 L 5.0,1.0 L 5.0,0.0 L 3.9999999999999987,0.0 L 0.9999999999999986,0.0 L 0.0,0.0 L 0.0,1.0 L 1.0,1.0 z\" /><path fill-rule=\"evenodd\" fill=\"#66cc99\" stroke=\"#555555\" stroke-width=\"0.10800000000000001\" opacity=\"0.6\" d=\"M 1.5,-0.5 L 1.4975923633360986,-0.5490085701647802 L 1.4903926402016152,-0.597545161008064 L 1.4784701678661045,-0.645142338627231 L 1.4619397662556435,-0.6913417161825447 L 1.4409606321741777,-0.7356983684129986 L 1.415734806151273,-0.7777851165098009 L 1.3865052266813687,-0.8171966420818224 L 1.353553390593274,-0.8535533905932735 L 1.317196642081823,-0.8865052266813682 L 1.2777851165098015,-0.9157348061512723 L 1.2356983684129994,-0.9409606321741772 L 1.1913417161825455,-0.9619397662556431 L 1.145142338627232,-0.9784701678661043 L 1.0975451610080649,-0.9903926402016151 L 1.049008570164781,-0.9975923633360984 L 1.0000000000000009,-1.0 L 0.9509914298352206,-0.9975923633360986 L 0.9024548389919368,-0.9903926402016154 L 0.8548576613727698,-0.9784701678661047 L 0.8086582838174561,-0.9619397662556437 L 0.7643016315870022,-0.940960632174178 L 0.7222148834901998,-0.9157348061512731 L 0.682803357918178,-0.8865052266813691 L 0.6464466094067269,-0.8535533905932744 L 0.613494773318632,-0.8171966420818234 L 0.5842651938487278,-0.7777851165098018 L 0.5590393678258229,-0.7356983684129995 L 0.538060233744357,-0.6913417161825456 L 0.5215298321338957,-0.6451423386272318 L 0.5096073597983849,-0.5975451610080648 L 0.5024076366639016,-0.5490085701647809 L 0.5,-0.5000000000000006 L 0.5024076366639015,-0.45099142983522017 L 0.5096073597983847,-0.40245483899193624 L 0.5215298321338955,-0.35485766137276914 L 0.5380602337443565,-0.3086582838174554 L 0.5590393678258223,-0.2643016315870014 L 0.5842651938487273,-0.22221488349019902 L 0.6134947733186314,-0.18280335791817737 L 0.6464466094067262,-0.14644660940672627 L 0.682803357918177,-0.11349477331863167 L 0.7222148834901985,-0.0842651938487276 L 0.7643016315870006,-0.05903936782582275 L 0.8086582838174544,-0.03806023374435691 L 0.854857661372768,-0.02152983213389581 L 0.9024548389919348,-0.009607359798385007 L 0.9509914298352184,-0.002407636663901702 L 0.9999999999999986,0.0 L 1.0490085701647787,-0.0024076366639014246 L 1.0975451610080624,-0.009607359798384452 L 1.1451423386272293,-0.021529832133895033 L 1.191341716182543,-0.0380602337443558 L 1.2356983684129967,-0.05903936782582142 L 1.277785116509799,-0.08426519384872605 L 1.3171966420818206,-0.1134947733186299 L 1.3535533905932717,-0.14644660940672427 L 1.3865052266813667,-0.18280335791817498 L 1.415734806151271,-0.2222148834901963 L 1.440960632174176,-0.26430163158699826 L 1.4619397662556421,-0.3086582838174519 L 1.4784701678661034,-0.35485766137276537 L 1.4903926402016145,-0.40245483899193213 L 1.4975923633360981,-0.4509914298352158 L 1.5,-0.4999999999999959 L 1.5,-0.5 z\" /><path fill-rule=\"evenodd\" fill=\"#66cc99\" stroke=\"#555555\" stroke-width=\"0.10800000000000001\" opacity=\"0.6\" d=\"M 4.5,-0.5 L 4.497592363336098,-0.5490085701647802 L 4.490392640201615,-0.597545161008064 L 4.478470167866105,-0.645142338627231 L 4.461939766255643,-0.6913417161825447 L 4.4409606321741775,-0.7356983684129986 L 4.4157348061512725,-0.7777851165098009 L 4.386505226681368,-0.8171966420818224 L 4.353553390593274,-0.8535533905932735 L 4.317196642081823,-0.8865052266813682 L 4.2777851165098015,-0.9157348061512723 L 4.235698368412999,-0.9409606321741772 L 4.191341716182546,-0.9619397662556431 L 4.145142338627232,-0.9784701678661043 L 4.097545161008065,-0.9903926402016151 L 4.049008570164781,-0.9975923633360984 L 4.000000000000001,-1.0 L 3.9509914298352204,-0.9975923633360986 L 3.902454838991937,-0.9903926402016154 L 3.85485766137277,-0.9784701678661047 L 3.808658283817456,-0.9619397662556437 L 3.764301631587002,-0.940960632174178 L 3.7222148834902,-0.9157348061512731 L 3.682803357918178,-0.8865052266813691 L 3.646446609406727,-0.8535533905932744 L 3.613494773318632,-0.8171966420818234 L 3.584265193848728,-0.7777851165098018 L 3.559039367825823,-0.7356983684129995 L 3.538060233744357,-0.6913417161825456 L 3.5215298321338957,-0.6451423386272318 L 3.509607359798385,-0.5975451610080648 L 3.5024076366639014,-0.5490085701647809 L 3.5,-0.5000000000000006 L 3.5024076366639014,-0.45099142983522017 L 3.509607359798385,-0.40245483899193624 L 3.5215298321338953,-0.35485766137276914 L 3.5380602337443565,-0.3086582838174554 L 3.5590393678258225,-0.2643016315870014 L 3.584265193848727,-0.22221488349019902 L 3.6134947733186316,-0.18280335791817737 L 3.646446609406726,-0.14644660940672627 L 3.682803357918177,-0.11349477331863167 L 3.7222148834901985,-0.0842651938487276 L 3.7643016315870006,-0.05903936782582275 L 3.8086582838174543,-0.03806023374435691 L 3.854857661372768,-0.02152983213389581 L 3.9024548389919347,-0.009607359798385007 L 3.9509914298352182,-0.002407636663901702 L 3.9999999999999987,0.0 L 4.049008570164779,-0.0024076366639014246 L 4.097545161008062,-0.009607359798384452 L 4.145142338627229,-0.021529832133895033 L 4.191341716182543,-0.0380602337443558 L 4.235698368412997,-0.05903936782582142 L 4.277785116509799,-0.08426519384872605 L 4.317196642081821,-0.1134947733186299 L 4.353553390593272,-0.14644660940672427 L 4.386505226681367,-0.18280335791817498 L 4.415734806151271,-0.2222148834901963 L 4.440960632174176,-0.26430163158699826 L 4.461939766255642,-0.3086582838174519 L 4.478470167866103,-0.35485766137276537 L 4.490392640201614,-0.40245483899193213 L 4.497592363336098,-0.4509914298352158 L 4.5,-0.4999999999999959 L 4.5,-0.5 z\" /></g></g></svg>"
      ],
      "text/plain": [
       "<MULTIPOLYGON (((1 1, 1 2, 3 2, 3 1, 5 1, 5 0, 4 0, 1 0, 0 0, 0 1, 1 1)), ((...>"
      ]
     },
     "execution_count": 24,
     "metadata": {},
     "output_type": "execute_result"
    }
   ],
   "source": [
    "# Combine the shapes to form the car\n",
    "car = top.union(bottom).union(wheel_front).union(wheel_rear)\n",
    "car"
   ]
  },
  {
   "cell_type": "code",
   "execution_count": 32,
   "id": "5c6ef88a",
   "metadata": {},
   "outputs": [
    {
     "name": "stdout",
     "output_type": "stream",
     "text": [
      "area of car: 8.568274245272969\n",
      "circumference: 20.28066231390951\n"
     ]
    }
   ],
   "source": [
    "# Calculate the circumference and area of the car\n",
    "print(f\"area of car: {car.area}\")\n",
    "print(f\"circumference: {car.length}\")"
   ]
  },
  {
   "cell_type": "markdown",
   "id": "8c3ef08b",
   "metadata": {},
   "source": [
    "This challenge provides a structured approach to understanding and applying geometric operations to create a simple car model."
   ]
  }
 ],
 "metadata": {
  "kernelspec": {
   "display_name": "Python 3 (ipykernel)",
   "language": "python",
   "name": "python3"
  },
  "language_info": {
   "codemirror_mode": {
    "name": "ipython",
    "version": 3
   },
   "file_extension": ".py",
   "mimetype": "text/x-python",
   "name": "python",
   "nbconvert_exporter": "python",
   "pygments_lexer": "ipython3",
   "version": "3.11.4"
  }
 },
 "nbformat": 4,
 "nbformat_minor": 5
}
