{
 "cells": [
  {
   "cell_type": "markdown",
   "id": "52f2f75c",
   "metadata": {},
   "source": [
    "# creating our first GeoDataFrame from scratch"
   ]
  },
  {
   "cell_type": "code",
   "execution_count": 1,
   "id": "f0c60d4e",
   "metadata": {},
   "outputs": [],
   "source": [
    "from shapely.geometry import Point, LineString, Polygon, MultiPolygon"
   ]
  },
  {
   "cell_type": "code",
   "execution_count": 2,
   "id": "11788a8d",
   "metadata": {},
   "outputs": [
    {
     "data": {
      "image/svg+xml": [
       "<svg xmlns=\"http://www.w3.org/2000/svg\" xmlns:xlink=\"http://www.w3.org/1999/xlink\" width=\"100.0\" height=\"100.0\" viewBox=\"-1.0 -1.0 2.0 2.0\" preserveAspectRatio=\"xMinYMin meet\"><g transform=\"matrix(1,0,0,-1,0,0.0)\"><circle cx=\"0.0\" cy=\"0.0\" r=\"0.06\" stroke=\"#555555\" stroke-width=\"0.02\" fill=\"#66cc99\" opacity=\"0.6\" /></g></svg>"
      ],
      "text/plain": [
       "<POINT (0 0)>"
      ]
     },
     "execution_count": 2,
     "metadata": {},
     "output_type": "execute_result"
    }
   ],
   "source": [
    "point = Point(0, 0)\n",
    "point"
   ]
  },
  {
   "cell_type": "code",
   "execution_count": 3,
   "id": "c7b6c57d",
   "metadata": {},
   "outputs": [
    {
     "data": {
      "image/svg+xml": [
       "<svg xmlns=\"http://www.w3.org/2000/svg\" xmlns:xlink=\"http://www.w3.org/1999/xlink\" width=\"100.0\" height=\"100.0\" viewBox=\"0.46 0.46 1.08 1.08\" preserveAspectRatio=\"xMinYMin meet\"><g transform=\"matrix(1,0,0,-1,0,2.0)\"><path fill-rule=\"evenodd\" fill=\"#66cc99\" stroke=\"#555555\" stroke-width=\"0.0216\" opacity=\"0.6\" d=\"M 1.5,1.0 L 1.4975923633360986,0.9509914298352198 L 1.4903926402016152,0.902454838991936 L 1.4784701678661045,0.854857661372769 L 1.4619397662556435,0.8086582838174553 L 1.4409606321741777,0.7643016315870014 L 1.415734806151273,0.7222148834901991 L 1.3865052266813687,0.6828033579181776 L 1.353553390593274,0.6464466094067265 L 1.317196642081823,0.6134947733186318 L 1.2777851165098015,0.5842651938487277 L 1.2356983684129994,0.5590393678258228 L 1.1913417161825455,0.5380602337443569 L 1.145142338627232,0.5215298321338957 L 1.0975451610080649,0.5096073597983849 L 1.049008570164781,0.5024076366639016 L 1.0000000000000009,0.5 L 0.9509914298352206,0.5024076366639014 L 0.9024548389919368,0.5096073597983846 L 0.8548576613727698,0.5215298321338953 L 0.8086582838174561,0.5380602337443563 L 0.7643016315870022,0.559039367825822 L 0.7222148834901998,0.5842651938487269 L 0.682803357918178,0.6134947733186309 L 0.6464466094067269,0.6464466094067256 L 0.613494773318632,0.6828033579181766 L 0.5842651938487278,0.7222148834901982 L 0.5590393678258229,0.7643016315870005 L 0.538060233744357,0.8086582838174544 L 0.5215298321338957,0.8548576613727682 L 0.5096073597983849,0.9024548389919352 L 0.5024076366639016,0.9509914298352191 L 0.5,0.9999999999999994 L 0.5024076366639015,1.0490085701647798 L 0.5096073597983847,1.0975451610080638 L 0.5215298321338955,1.1451423386272308 L 0.5380602337443565,1.1913417161825446 L 0.5590393678258223,1.2356983684129985 L 0.5842651938487273,1.277785116509801 L 0.6134947733186314,1.3171966420818226 L 0.6464466094067262,1.3535533905932737 L 0.682803357918177,1.3865052266813684 L 0.7222148834901985,1.4157348061512725 L 0.7643016315870006,1.4409606321741772 L 0.8086582838174544,1.461939766255643 L 0.854857661372768,1.4784701678661043 L 0.9024548389919348,1.490392640201615 L 0.9509914298352184,1.4975923633360984 L 0.9999999999999986,1.5 L 1.0490085701647787,1.4975923633360986 L 1.0975451610080624,1.4903926402016157 L 1.1451423386272293,1.478470167866105 L 1.191341716182543,1.4619397662556441 L 1.2356983684129967,1.4409606321741786 L 1.277785116509799,1.415734806151274 L 1.3171966420818206,1.3865052266813702 L 1.3535533905932717,1.3535533905932757 L 1.3865052266813667,1.317196642081825 L 1.415734806151271,1.2777851165098038 L 1.440960632174176,1.2356983684130016 L 1.4619397662556421,1.1913417161825481 L 1.4784701678661034,1.1451423386272346 L 1.4903926402016145,1.0975451610080678 L 1.4975923633360981,1.0490085701647842 L 1.5,1.0000000000000042 L 1.5,1.0 z\" /></g></svg>"
      ],
      "text/plain": [
       "<POLYGON ((1.5 1, 1.5 0.951, 1.49 0.902, 1.48 0.855, 1.46 0.809, 1.44 0.764,...>"
      ]
     },
     "execution_count": 3,
     "metadata": {},
     "output_type": "execute_result"
    }
   ],
   "source": [
    "circle = Point(1, 1).buffer(0.5)\n",
    "circle"
   ]
  },
  {
   "cell_type": "code",
   "execution_count": 5,
   "id": "9f682d98",
   "metadata": {},
   "outputs": [
    {
     "data": {
      "image/svg+xml": [
       "<svg xmlns=\"http://www.w3.org/2000/svg\" xmlns:xlink=\"http://www.w3.org/1999/xlink\" width=\"100.0\" height=\"100.0\" viewBox=\"1.8 1.8 5.4 3.4000000000000004\" preserveAspectRatio=\"xMinYMin meet\"><g transform=\"matrix(1,0,0,-1,0,7.0)\"><polyline fill=\"none\" stroke=\"#66cc99\" stroke-width=\"0.10800000000000001\" points=\"2.0,2.0 3.5,4.0 7.0,5.0\" opacity=\"0.8\" /></g></svg>"
      ],
      "text/plain": [
       "<LINESTRING (2 2, 3.5 4, 7 5)>"
      ]
     },
     "execution_count": 5,
     "metadata": {},
     "output_type": "execute_result"
    }
   ],
   "source": [
    "line = LineString([(2,2), (3.5, 4), (7, 5)])\n",
    "line"
   ]
  },
  {
   "cell_type": "code",
   "execution_count": 7,
   "id": "e699136c",
   "metadata": {},
   "outputs": [
    {
     "data": {
      "image/svg+xml": [
       "<svg xmlns=\"http://www.w3.org/2000/svg\" xmlns:xlink=\"http://www.w3.org/1999/xlink\" width=\"100.0\" height=\"100.0\" viewBox=\"2.96 -0.04 1.08 1.08\" preserveAspectRatio=\"xMinYMin meet\"><g transform=\"matrix(1,0,0,-1,0,1.0)\"><path fill-rule=\"evenodd\" fill=\"#66cc99\" stroke=\"#555555\" stroke-width=\"0.0216\" opacity=\"0.6\" d=\"M 3.0,0.0 L 3.0,1.0 L 4.0,1.0 L 4.0,0.0 L 3.0,0.0 z\" /></g></svg>"
      ],
      "text/plain": [
       "<POLYGON ((3 0, 3 1, 4 1, 4 0, 3 0))>"
      ]
     },
     "execution_count": 7,
     "metadata": {},
     "output_type": "execute_result"
    }
   ],
   "source": [
    "square = Polygon([(3, 0), (3, 1), (4, 1), (4, 0)])\n",
    "square"
   ]
  },
  {
   "cell_type": "code",
   "execution_count": 11,
   "id": "985a683d",
   "metadata": {},
   "outputs": [
    {
     "data": {
      "image/svg+xml": [
       "<svg xmlns=\"http://www.w3.org/2000/svg\" xmlns:xlink=\"http://www.w3.org/1999/xlink\" width=\"100.0\" height=\"100.0\" viewBox=\"1.8 3.3 5.4 3.4000000000000004\" preserveAspectRatio=\"xMinYMin meet\"><g transform=\"matrix(1,0,0,-1,0,10.0)\"><path fill-rule=\"evenodd\" fill=\"#66cc99\" stroke=\"#555555\" stroke-width=\"0.10800000000000001\" opacity=\"0.6\" d=\"M 2.0,3.5 L 3.5,5.5 L 7.0,6.5 L 2.0,3.5 z\" /></g></svg>"
      ],
      "text/plain": [
       "<POLYGON ((2 3.5, 3.5 5.5, 7 6.5, 2 3.5))>"
      ]
     },
     "execution_count": 11,
     "metadata": {},
     "output_type": "execute_result"
    }
   ],
   "source": [
    "triangle = LineString([(2,2+ 1.5), (3.5, 4 + 1.5), (7, 5 + 1.5)]).convex_hull\n",
    "triangle"
   ]
  },
  {
   "cell_type": "markdown",
   "id": "3e80950a",
   "metadata": {},
   "source": [
    "### creating a geodataframe"
   ]
  },
  {
   "cell_type": "code",
   "execution_count": 12,
   "id": "00828fe4",
   "metadata": {},
   "outputs": [],
   "source": [
    "geo_data = {'point': point,\n",
    "            'circle': circle,\n",
    "            'line': line,\n",
    "            'square': square,\n",
    "            'triangle': triangle}"
   ]
  },
  {
   "cell_type": "code",
   "execution_count": 13,
   "id": "4697d089",
   "metadata": {},
   "outputs": [
    {
     "data": {
      "text/plain": [
       "dict_keys(['point', 'circle', 'line', 'square', 'triangle'])"
      ]
     },
     "execution_count": 13,
     "metadata": {},
     "output_type": "execute_result"
    }
   ],
   "source": [
    "geo_data.keys()"
   ]
  },
  {
   "cell_type": "code",
   "execution_count": 15,
   "id": "9838021f",
   "metadata": {},
   "outputs": [
    {
     "data": {
      "text/plain": [
       "dict_values([<POINT (0 0)>, <POLYGON ((1.5 1, 1.5 0.951, 1.49 0.902, 1.48 0.855, 1.46 0.809, 1.44 0.764,...>, <LINESTRING (2 2, 3.5 4, 7 5)>, <POLYGON ((3 0, 3 1, 4 1, 4 0, 3 0))>, <POLYGON ((2 3.5, 3.5 5.5, 7 6.5, 2 3.5))>])"
      ]
     },
     "execution_count": 15,
     "metadata": {},
     "output_type": "execute_result"
    }
   ],
   "source": [
    "geo_data.values()"
   ]
  },
  {
   "cell_type": "code",
   "execution_count": 17,
   "id": "31ade6bd",
   "metadata": {},
   "outputs": [],
   "source": [
    "import geopandas as gpd"
   ]
  },
  {
   "cell_type": "code",
   "execution_count": 20,
   "id": "d2daa2e7",
   "metadata": {},
   "outputs": [
    {
     "data": {
      "text/html": [
       "<div>\n",
       "<style scoped>\n",
       "    .dataframe tbody tr th:only-of-type {\n",
       "        vertical-align: middle;\n",
       "    }\n",
       "\n",
       "    .dataframe tbody tr th {\n",
       "        vertical-align: top;\n",
       "    }\n",
       "\n",
       "    .dataframe thead th {\n",
       "        text-align: right;\n",
       "    }\n",
       "</style>\n",
       "<table border=\"1\" class=\"dataframe\">\n",
       "  <thead>\n",
       "    <tr style=\"text-align: right;\">\n",
       "      <th></th>\n",
       "      <th>geo_name</th>\n",
       "      <th>geometry</th>\n",
       "    </tr>\n",
       "  </thead>\n",
       "  <tbody>\n",
       "    <tr>\n",
       "      <th>0</th>\n",
       "      <td>point</td>\n",
       "      <td>POINT (0.00000 0.00000)</td>\n",
       "    </tr>\n",
       "    <tr>\n",
       "      <th>1</th>\n",
       "      <td>circle</td>\n",
       "      <td>POLYGON ((1.50000 1.00000, 1.49759 0.95099, 1....</td>\n",
       "    </tr>\n",
       "    <tr>\n",
       "      <th>2</th>\n",
       "      <td>line</td>\n",
       "      <td>LINESTRING (2.00000 2.00000, 3.50000 4.00000, ...</td>\n",
       "    </tr>\n",
       "    <tr>\n",
       "      <th>3</th>\n",
       "      <td>square</td>\n",
       "      <td>POLYGON ((3.00000 0.00000, 3.00000 1.00000, 4....</td>\n",
       "    </tr>\n",
       "    <tr>\n",
       "      <th>4</th>\n",
       "      <td>triangle</td>\n",
       "      <td>POLYGON ((2.00000 3.50000, 3.50000 5.50000, 7....</td>\n",
       "    </tr>\n",
       "  </tbody>\n",
       "</table>\n",
       "</div>"
      ],
      "text/plain": [
       "   geo_name                                           geometry\n",
       "0     point                            POINT (0.00000 0.00000)\n",
       "1    circle  POLYGON ((1.50000 1.00000, 1.49759 0.95099, 1....\n",
       "2      line  LINESTRING (2.00000 2.00000, 3.50000 4.00000, ...\n",
       "3    square  POLYGON ((3.00000 0.00000, 3.00000 1.00000, 4....\n",
       "4  triangle  POLYGON ((2.00000 3.50000, 3.50000 5.50000, 7...."
      ]
     },
     "execution_count": 20,
     "metadata": {},
     "output_type": "execute_result"
    }
   ],
   "source": [
    "gdf = gpd.GeoDataFrame(geo_data.items(), columns = ['geo_name', 'geometry'])\n",
    "gdf"
   ]
  },
  {
   "cell_type": "code",
   "execution_count": 21,
   "id": "b8574949",
   "metadata": {},
   "outputs": [
    {
     "data": {
      "text/plain": [
       "geopandas.geodataframe.GeoDataFrame"
      ]
     },
     "execution_count": 21,
     "metadata": {},
     "output_type": "execute_result"
    }
   ],
   "source": [
    "type(gdf)"
   ]
  },
  {
   "cell_type": "code",
   "execution_count": null,
   "id": "124c0cf8",
   "metadata": {},
   "outputs": [],
   "source": []
  }
 ],
 "metadata": {
  "kernelspec": {
   "display_name": "Python 3 (ipykernel)",
   "language": "python",
   "name": "python3"
  },
  "language_info": {
   "codemirror_mode": {
    "name": "ipython",
    "version": 3
   },
   "file_extension": ".py",
   "mimetype": "text/x-python",
   "name": "python",
   "nbconvert_exporter": "python",
   "pygments_lexer": "ipython3",
   "version": "3.11.4"
  }
 },
 "nbformat": 4,
 "nbformat_minor": 5
}
